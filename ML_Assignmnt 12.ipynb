{
 "cells": [
  {
   "cell_type": "markdown",
   "id": "0d83eca5",
   "metadata": {},
   "source": [
    "## Machine Learning Assignment 12"
   ]
  },
  {
   "cell_type": "markdown",
   "id": "fa36d4d3",
   "metadata": {},
   "source": [
    "### 1. What is prior probability ? Give an example ?"
   ]
  },
  {
   "cell_type": "markdown",
   "id": "505284e5",
   "metadata": {},
   "source": [
    "Ans1. Prior probability is the probability an event will happen before you take any new evidence into account. You can think of posterior probability as an adjustment on prior probability.  For example, historical data suggests that around 50% of students who start college will graduate within 4 years. This is the prior probability. \n",
    "\n",
    "![image](https://miro.medium.com/max/1994/1*CnoTGGO7XeUpUMeXDrIfvA.png)"
   ]
  },
  {
   "cell_type": "markdown",
   "id": "de7d06b7",
   "metadata": {},
   "source": [
    "### 2. What is posterior probability ? Give an example ?\n",
    "Ans:: Posterior probability is a revised probability that takes into account new available information. For example, let there be two urns, urn A having 5 black balls and 10 red balls and urn B having 10 black balls and 5 red balls.\n",
    "\n",
    "![image](https://miro.medium.com/max/1994/1*CnoTGGO7XeUpUMeXDrIfvA.png)"
   ]
  },
  {
   "cell_type": "markdown",
   "id": "a0894bb8",
   "metadata": {},
   "source": [
    "### 2. What is posterior probability ? Give an example ?\n",
    "Ans:: Posterior probability is a revised probability that takes into account new available information. For example, let there be two urns, urn A having 5 black balls and 10 red balls and urn B having 10 black balls and 5 red balls."
   ]
  },
  {
   "cell_type": "markdown",
   "id": "8a4f9c55",
   "metadata": {},
   "source": [
    "![image](https://miro.medium.com/max/1994/1*CnoTGGO7XeUpUMeXDrIfvA.png)"
   ]
  },
  {
   "cell_type": "markdown",
   "id": "ceaeb3cf",
   "metadata": {},
   "source": [
    "### 3. What is likelihood probability ? Give an example ?\n",
    "Ans: Likelihood Function in Machine Learning and Data Science is the joint probability distribution(jpd) of the dataset given as a function of the parameter. Think of it as the probability of obtaining the observed data given the parameter values.\n",
    "\n"
   ]
  },
  {
   "cell_type": "markdown",
   "id": "d0929eba",
   "metadata": {},
   "source": [
    "![image](https://miro.medium.com/max/5200/1*F_34lcOq-XnaSx0dsHmqQw.png)"
   ]
  },
  {
   "cell_type": "markdown",
   "id": "d22ff029",
   "metadata": {},
   "source": [
    "### 4. What is Naïve Bayes classifier ? Why is it named so ?\n",
    "Ans: Naive Bayes is a simple and powerful algorithm for predictive modeling. Naive Bayes is called naive because it assumes that each input variable is independent. This is a strong assumption and unrealistic for real data; however, the technique is very effective on a large range of complex problems."
   ]
  },
  {
   "cell_type": "markdown",
   "id": "9536bb10",
   "metadata": {},
   "source": [
    "![image](https://th.bing.com/th/id/R.e4e44e42a616b82eada3ee53f4e32d5f?rik=d0fZUMOs4YSCdw&pid=ImgRaw&r=0)"
   ]
  },
  {
   "cell_type": "markdown",
   "id": "2a74af99",
   "metadata": {},
   "source": [
    "### 5. What is optimal Bayes classifier ?\n",
    "Ans: The Bayes Optimal Classifier is a probabilistic model that makes the most probable prediction for a new example. Bayes Optimal Classifier is a probabilistic model that finds the most probable prediction using the training data and space of hypotheses to make a prediction for a new data instance."
   ]
  },
  {
   "cell_type": "markdown",
   "id": "ae208167",
   "metadata": {},
   "source": [
    "![image](https://th.bing.com/th/id/OIP.8etJxDkCmm-1zQqaVjKUgwHaFj?pid=ImgDet&rs=1)"
   ]
  },
  {
   "cell_type": "markdown",
   "id": "ac39c4a4",
   "metadata": {},
   "source": [
    "### 6. Write any two features of Bayesian learning methods ?\n",
    "Ans:Features of Bayesian learning methods include:\n",
    "Each observed training example can reduce or enhance the estimated chance that a hypothesis is correct by a small amount.\n",
    "\n",
    " \n",
    "\n",
    "This is more flexible than methods that fully discard a hypothesis if it is discovered to be inconsistent with any single example. To assess the final probability of a hypothesis, prior knowledge can be merged with observed data.\n",
    "\n"
   ]
  },
  {
   "cell_type": "markdown",
   "id": "35b568d4",
   "metadata": {},
   "source": [
    "### 7. Define the concept of consistent learners ?"
   ]
  },
  {
   "cell_type": "markdown",
   "id": "afd2204c",
   "metadata": {},
   "source": [
    "Ans: Consistent Learners: A learner L using a hypothesis H and training data D is said to be a consistent learner if it always outputs a hypothesis with zero error on D whenever H contains such a hypothesis. • By definition, a consistent learner must produce a hypothesis in the version space for H given D."
   ]
  },
  {
   "cell_type": "markdown",
   "id": "0ae0eeff",
   "metadata": {},
   "source": [
    "![image](https://camo.githubusercontent.com/9b6c0caebcf8fb98cb7d0eb12d78b92dcc783a31995be42fa007c8c31a79cb1e/68747470733a2f2f736c696465706c617965722e636f6d2f736c6964652f31333336353738302f38302f696d616765732f31312f436f6e73697374656e742b4c6561726e6572732e6a7067)"
   ]
  },
  {
   "cell_type": "markdown",
   "id": "21160ce0",
   "metadata": {},
   "source": [
    "### 8. Write any two strengths of Bayes classifier ?\n",
    "Ans: This algorithm works quickly and can save a lot of time. Naive Bayes is suitable for solving multi-class prediction problems. If its assumption of the independence of features holds true, it can perform better than other models and requires much less training data.\n",
    "\n",
    "1) It is simple and easy to implement.\n",
    "2) It doesn't require as much training data.\n",
    "3) It handles both continuous and discrete data.\n",
    "4) It is highly scalable with the number of predictors and data points.\n",
    "5) It is fast and can be used to make real-time predictions.\n",
    "\n",
    "\n",
    "### 9. Write any two weaknesses of Bayes classifier ?\n",
    "Ans: The greatest weakness of the naïve Bayes classifier is that it relies on an often-faulty assumption of equally important and independent features which results in biased posterior probabilities.\n",
    "\n",
    "If your test data set has a categorical variable of a category that wasn’t present in the training data set, the Naive Bayes model will assign it zero probability and won’t be able to make any predictions in this regard. This phenomenon is called ‘Zero Frequency,’ and you’ll have to use a smoothing technique to solve this problem.\n",
    "This algorithm is also notorious as a lousy estimator. So, you shouldn’t take the probability outputs of ‘predict_proba’ too seriously.\n",
    "It assumes that all the features are independent. While it might sound great in theory, in real life, you’ll hardly find a set of independent features.\n",
    "\n",
    "\n",
    "### 10. Explain how Naïve Bayes classifier is used for:\n",
    "1) Text classification\n",
    "2) Spam filtering\n",
    "3) Market sentiment analysis\n",
    "\n",
    "Ans: Navie Bayes Classifier is used for:\n",
    "\n",
    "1) Text classification:\n",
    "\n",
    "The Naive Bayes classifier is a simple classifier that classifies based on probabilities of events. It is the applied commonly to text classification. With the training set, we can train a Naive Bayes classifier which we can use to automaticall categorize a new sentence.\n",
    "\n",
    "2) Spam filtering:\n",
    "\n",
    "Naive Bayes classifiers work by correlating the use of tokens (typically words, or sometimes other things), with spam and non-spam e-mails and then using Bayes' theorem to calculate a probability that an email is or is not spam. It is one of the oldest ways of doing spam filtering, with roots in the 1990s.\n",
    "\n",
    "3) Market sentiment analysis:\n",
    "\n",
    "Market Sentiment analysis is a field dedicated to extracting subjective emotions and feelings from text. One common use of sentiment analysis is to figure out if a text expresses negative or positive feelings. Naive Bayes is a popular algorithm for classifying text."
   ]
  }
 ],
 "metadata": {
  "kernelspec": {
   "display_name": "Python 3 (ipykernel)",
   "language": "python",
   "name": "python3"
  },
  "language_info": {
   "codemirror_mode": {
    "name": "ipython",
    "version": 3
   },
   "file_extension": ".py",
   "mimetype": "text/x-python",
   "name": "python",
   "nbconvert_exporter": "python",
   "pygments_lexer": "ipython3",
   "version": "3.9.12"
  }
 },
 "nbformat": 4,
 "nbformat_minor": 5
}
